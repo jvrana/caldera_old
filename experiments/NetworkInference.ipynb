{
 "cells": [
  {
   "cell_type": "markdown",
   "metadata": {
    "pycharm": {
     "name": "#%% md\n"
    }
   },
   "source": [
    "# Init\n",
    "\n",
    "**TODO**\n",
    "\n",
    "1. Refactor and clean code\n",
    "1. Single method for construction of network\n",
    "1. Record experiment with wandb\n",
    "1. bayesian optimization of hyperparameters\n",
    "1. better richer data\n",
    "\n",
    "**TODO Record Better Data**\n",
    "1. record data generation parameter (basically from which distribution the data comes from)\n",
    "1. record actual parameters\n",
    "1. record actual data\n",
    "1. data artifacts\n",
    "1. groupings\n",
    "1. save model\n",
    "1. json schema for parameters and whatnot"
   ]
  },
  {
   "cell_type": "code",
   "execution_count": 2,
   "metadata": {},
   "outputs": [],
   "source": [
    "import sys\n",
    "sys.path.insert(0, '..')"
   ]
  },
  {
   "cell_type": "code",
   "execution_count": 3,
   "metadata": {},
   "outputs": [],
   "source": [
    "import numpy as np\n",
    "import seaborn as sns\n",
    "import pylab as plt\n",
    "\n",
    "%matplotlib inline"
   ]
  },
  {
   "cell_type": "code",
   "execution_count": 4,
   "metadata": {},
   "outputs": [],
   "source": [
    "# import wandb\n",
    "# wandb.init(project=\"circuit-seq\")"
   ]
  },
  {
   "cell_type": "markdown",
   "metadata": {
    "pycharm": {
     "name": "#%% md\n"
    }
   },
   "source": [
    "# Data Generation\n",
    "\n",
    "We define a basic function, the `sigmoid` for simulating a chemical reaction network."
   ]
  },
  {
   "cell_type": "markdown",
   "metadata": {
    "pycharm": {
     "name": "#%% md\n"
    }
   },
   "source": [
    "## Utilities"
   ]
  },
  {
   "cell_type": "markdown",
   "metadata": {
    "pycharm": {
     "name": "#%% md\n"
    }
   },
   "source": [
    "### Make Deterministic"
   ]
  },
  {
   "cell_type": "code",
   "execution_count": 5,
   "metadata": {},
   "outputs": [],
   "source": [
    "import random\n",
    "import torch\n",
    "import numpy\n",
    "\n",
    "SEED=0\n",
    "\n",
    "def make_deterministic(seed):\n",
    "    return\n",
    "    random.seed(seed)\n",
    "    numpy.random.seed(seed)\n",
    "    torch.manual_seed(seed)\n",
    "\n",
    "    torch.backends.cudnn.deterministic = True\n",
    "    torch.backends.cudnn.benchmark = False"
   ]
  },
  {
   "cell_type": "markdown",
   "metadata": {},
   "source": [
    "### Visualization Tools"
   ]
  },
  {
   "cell_type": "code",
   "execution_count": 6,
   "metadata": {
    "jupyter": {
     "source_hidden": true
    }
   },
   "outputs": [
    {
     "data": {
      "image/png": "[encoded data removed]",
      "text/plain": [
       "<Figure size 216x216 with 1 Axes>"
      ]
     },
     "metadata": {
      "needs_background": "light"
     },
     "output_type": "display_data"
    }
   ],
   "source": [
    "\n",
    "import collections\n",
    "import numpy as np\n",
    "import networkx as nx\n",
    "import pylab as plt\n",
    "%matplotlib inline\n",
    "\n",
    "def sorted_center(iterable, reverse=False, key=None, select=None):\n",
    "    centered = []\n",
    "    s = sorted(iterable, key=key, reverse=reverse)\n",
    "    front = False\n",
    "    for v in s:\n",
    "        if not front:\n",
    "            centered.append(v)\n",
    "        else:\n",
    "            centered.insert(0, v)\n",
    "        front = not front\n",
    "    if select:\n",
    "        return [select(_x) for _x in centered]\n",
    "    return centered\n",
    "\n",
    "class GraphPlotter(object):\n",
    "  \n",
    "  def __init__(self, graph, ax=None, pos=None):\n",
    "    if ax is None:\n",
    "      ax = plt.figure(figsize=(3,3)).gca()\n",
    "      ax.axis('off')\n",
    "      ax.set_xlim(0, 1.0)\n",
    "      ax.set_ylim(0, 1.0)\n",
    "    \n",
    "    self._ax = ax\n",
    "    self._graph = graph\n",
    "    if pos is None:\n",
    "      self._pos = dict()\n",
    "      self.spring_layout()\n",
    "    else:\n",
    "      self._pos = pos\n",
    "      \n",
    "  @property\n",
    "  def _base_draw_kwargs(self):\n",
    "    return dict(G=self._graph, ax=self._ax, pos=self._pos)\n",
    " \n",
    "  def topological_sort(self):\n",
    "    xlim = self._ax.get_xlim()\n",
    "    ylim = self._ax.get_ylim()\n",
    "    \n",
    "    x = xlim[1] - xlim[0]\n",
    "    y = ylim[1] - ylim[0]\n",
    "    xspacer = x * 0.05\n",
    "    yspacer = y * 0.05\n",
    "    \n",
    "    new_xlim = (xlim[0] + xspacer, xlim[1] - xspacer)\n",
    "    new_ylim = (ylim[0] + yspacer, ylim[1] - yspacer)\n",
    "    pos = self._topological_sort(self._graph, \n",
    "                                 xlim=new_xlim, \n",
    "                                 ylim=new_ylim)\n",
    "    self._pos = pos\n",
    "\n",
    "  @staticmethod\n",
    "  def _roots_and_leaves(G, include_cycles=False):\n",
    "    roots = [k for k, v in G.in_degree(G.nodes) if v == 0]\n",
    "    leaves = [k for k, v in G.out_degree(G.nodes) if v == 0]\n",
    "    \n",
    "    if include_cycles:\n",
    "      for c in nx.simple_cycles(G):\n",
    "        outdegree = list(G.out_degree(c))\n",
    "        outdegree.sort(key=lambda x: x[1])\n",
    "        leaves.append(outdegree[0][0])\n",
    "\n",
    "        indegree = list(G.out_degree(c))\n",
    "        indegree.sort(key=lambda x: x[1])\n",
    "        roots.append(indegree[0][0])\n",
    "    return roots, leaves\n",
    "  \n",
    "  @classmethod\n",
    "  def _get_roots(cls, G, include_cycles=False):\n",
    "    return cls._roots_and_leaves(G, include_cycles=include_cycles)[0]\n",
    "\n",
    "  @staticmethod\n",
    "  def _get_leaves(G, include_cycles=False):\n",
    "    return cls._roots_and_leaves(G, include_cycles=include_cycles)[1]\n",
    "\n",
    "  @staticmethod\n",
    "  def _get_subgraphs(graph):\n",
    "    \"\"\"Get independent subgraphs\"\"\"\n",
    "    node_list = list(graph.nodes)\n",
    "    subgraphs = []\n",
    "    while len(node_list) > 0:\n",
    "        node = node_list[-1]\n",
    "        subgraph = nx.bfs_tree(to_undirected(graph), node)\n",
    "        for n in subgraph.nodes:\n",
    "            node_list.remove(n)\n",
    "        subgraphs.append(graph.subgraph(subgraph.nodes))\n",
    "    return subgraphs\n",
    "\n",
    "  @classmethod\n",
    "  def _topological_sort(cls, G, xlim=None, ylim=None):\n",
    "    if xlim is None:\n",
    "        xlim = [0.05, 0.95]\n",
    "    if ylim is None:\n",
    "        ylim = [0.05, 0.95]\n",
    "    \n",
    "    rts = cls._get_roots(G, include_cycles=True)\n",
    "    max_depth = {}\n",
    "    for root in rts:\n",
    "        depths = nx.single_source_shortest_path_length(G, root)\n",
    "        for n, d in depths.items():\n",
    "            max_depth[n] = max(max_depth.get(n, d), d)\n",
    "\n",
    "    by_depth = collections.OrderedDict()\n",
    "\n",
    "    for node, depth in max_depth.items():\n",
    "        by_depth.setdefault(depth, [])\n",
    "        by_depth[depth].append(node)\n",
    "    \n",
    "    # center nodes with highest degree\n",
    "    for depth, nodes in by_depth.items():\n",
    "        centered = sorted_center(list(G.degree(nodes)), \n",
    "                                 key=lambda x: x[1], \n",
    "                                 reverse=True,\n",
    "                                select=lambda x: x[0])\n",
    "        by_depth[depth] = centered\n",
    "\n",
    "    # push roots 'up' so they are not stuck on layer one\n",
    "    for root in rts:\n",
    "        successors = list(G.successors(root))\n",
    "        if len(successors) > 0:\n",
    "            min_depth = min([max_depth[s] for s in successors])\n",
    "            max_depth[root] = min_depth - 1\n",
    "\n",
    "    # assign positions\n",
    "\n",
    "    y_min_max = xlim\n",
    "    x_min_max = ylim\n",
    "    max_width = max([len(layer) for layer in by_depth.values()])\n",
    "\n",
    "    y_step = (y_min_max[1] - y_min_max[0]) / (max(by_depth.keys())+1)\n",
    "    x_step = (x_min_max[1] - x_min_max[0]) / (max_width )\n",
    "    positions = {}\n",
    "\n",
    "    for depth in sorted(by_depth):\n",
    "        y = y_step * depth + y_min_max[0]\n",
    "        node_ids = by_depth[depth]\n",
    "        w = len(node_ids)\n",
    "        delta_w = max_width - w\n",
    "        for i, n in enumerate(node_ids):\n",
    "            x_offset = delta_w * x_step / 2.0\n",
    "            x = x_min_max[0] + x_offset + i * x_step\n",
    "            positions[n] = (x, y)\n",
    "    return positions\n",
    "\n",
    "  def spring_layout(self, **kwargs):\n",
    "    pos = nx.spring_layout(self._graph, **kwargs)\n",
    "    self._pos.update(pos)\n",
    "    return self._pos\n",
    "    \n",
    "  @property\n",
    "  def nodes(self):\n",
    "    return self._graph.nodes\n",
    "  \n",
    "  @property\n",
    "  def edges(self):\n",
    "    return self._graph.edges\n",
    "  \n",
    "  def node_attrs(self):\n",
    "    keys = set()\n",
    "    for _, node_data in self._graph.nodes(data=True):\n",
    "      keys.update(set(node_data.keys()))\n",
    "    attrs = {}\n",
    "    for _, node_data in self._graph.nodes(data=True):\n",
    "      for k in keys:\n",
    "        attrs.setdefault(k, list())\n",
    "        attrs[k].append(node_data.get(k, None))\n",
    "    return attrs\n",
    "  \n",
    "  def edge_attrs(self):\n",
    "    keys = set()\n",
    "    for _, _, edge_data in self._graph.edges(data=True):\n",
    "      keys.update(set(edge_data.keys()))\n",
    "    attrs = {}\n",
    "    for _, _, edge_data in self._graph.edges(data=True):\n",
    "      for k in keys:\n",
    "        attrs.setdefault(k, list())\n",
    "        attrs[k].append(edge_data.get(k, None))\n",
    "    return attrs\n",
    "  \n",
    "  def map_edge_attrs(self, attrs, source, target):\n",
    "    vals = [self._normalize(self.edge_attrs()[attr], source, target) for attr in attrs]\n",
    "    return dict(zip(attrs, vals))\n",
    "  \n",
    "  def map_node_attrs(self, attrs, source, target):\n",
    "    vals = [self._normalize(self.node_attrs()[attr], source, target) for attr in attrs]\n",
    "    return dict(zip(attrs, vals))\n",
    "  \n",
    "  def _normalize(arr, source, target):\n",
    "    x = source[1] - source[0]\n",
    "    y = target[1] - target[0]\n",
    "    return [_x/x * y + target[0] for _x in arr] \n",
    "  \n",
    "  def _make_draw_kwargs(self, **kwargs):\n",
    "    kwargs.update(self._base_draw_kwargs)\n",
    "    return kwargs\n",
    "  \n",
    "  def _draw(self, draw_function, zorder=None, **kwargs):\n",
    "    draw_kwargs = self._make_draw_kwargs(**kwargs)\n",
    "    collection = draw_function(**draw_kwargs)\n",
    "    if collection is not None and zorder is not None:\n",
    "      try:\n",
    "        # This is for compatibility with older matplotlib.\n",
    "        collection.set_zorder(zorder)\n",
    "      except AttributeError:\n",
    "        # This is for compatibility with newer matplotlib.\n",
    "        collection[0].set_zorder(zorder)\n",
    "    return collection\n",
    "\n",
    "  def draw_nodes(self, **kwargs):\n",
    "    \"\"\"Useful kwargs: nodelist, node_size, node_color, linewidths.\"\"\"\n",
    "    if (\"node_color\" in kwargs and\n",
    "        isinstance(kwargs[\"node_color\"], collections.Sequence) and\n",
    "        len(kwargs[\"node_color\"]) in {3, 4} and\n",
    "        not isinstance(kwargs[\"node_color\"][0],\n",
    "                       (collections.Sequence, np.ndarray))):\n",
    "      num_nodes = len(kwargs.get(\"nodelist\", self.nodes))\n",
    "      kwargs[\"node_color\"] = np.tile(\n",
    "          np.array(kwargs[\"node_color\"])[None], [num_nodes, 1])\n",
    "    return self._draw(nx.draw_networkx_nodes, **kwargs)\n",
    "\n",
    "  def draw_edges(self, **kwargs):\n",
    "    \"\"\"Useful kwargs: edgelist, width.\"\"\"\n",
    "    return self._draw(nx.draw_networkx_edges, **kwargs)\n",
    "  \n",
    "  def draw_graph(self,\n",
    "                 node_size=200,\n",
    "                 node_color=(0.4, 0.8, 0.4),\n",
    "                 node_linewidth=1.0,\n",
    "                 edge_width=1.0):\n",
    "    \n",
    "    node_border_color = (0.0, 0.0, 0.0, 1.0)\n",
    "    \n",
    "    # Plot nodes.\n",
    "    self.draw_nodes(\n",
    "        nodelist=self.nodes,\n",
    "        node_size=node_size,\n",
    "        node_color=node_color,\n",
    "        linewidths=node_linewidth,\n",
    "        edgecolors=node_border_color,\n",
    "        zorder=20)\n",
    "    # Plot edges.\n",
    "    self.draw_edges(edgelist=self.edges, width=edge_width, zorder=10)\n",
    "\n",
    "  \n",
    "  \n",
    "g = nx.balanced_tree(2, 2)\n",
    "g = nx.to_directed(g)\n",
    "\n",
    "for e in g.edges:\n",
    "  g.edges[e[0], e[1]]['weight'] = 1\n",
    "  \n",
    "ax = plt.figure(figsize=(3,3)).gca()\n",
    "ax.axis('off')\n",
    "ax.set_xlim(0, 1.0)\n",
    "ax.set_ylim(0, 1.0)\n",
    "    \n",
    "plotter = GraphPlotter(g, ax=ax)\n",
    "plotter.topological_sort()\n",
    "\n",
    "# plotter.draw_graph(node_color=(0, 0, 0), edge_width=plotter.edge_attrs()['weight'])"
   ]
  },
  {
   "cell_type": "code",
   "execution_count": 7,
   "metadata": {},
   "outputs": [],
   "source": [
    "def plot_example_graphs(graphs, rows=4, cols=4, figsize=(10, 10)):    \n",
    "    import matplotlib as mplt\n",
    "\n",
    "    norm = mplt.colors.Normalize(0, 20)\n",
    "\n",
    "    fig, axes = plt.subplots(rows, cols, squeeze=False, figsize=figsize)\n",
    "\n",
    "    def flatten(x):\n",
    "        arr = []\n",
    "        for a in x:\n",
    "            for b in a:\n",
    "                arr.append(b)\n",
    "        return arr\n",
    "\n",
    "    axes = flatten(axes)\n",
    "    for g, ax in zip(graphs, axes):\n",
    "        if not g.number_of_nodes():\n",
    "            continue\n",
    "        ylabels = {n: ndata for n, ndata in g.nodes(data='y')}\n",
    "        nodelist, nodedata = zip(*g.nodes(data=True))\n",
    "        ylabels = {n: round(ndata['y'].flatten().item(), 2) for n, ndata in zip(nodelist, nodedata)}\n",
    "        y = [round(ndata['y'].flatten().item(), 2) for ndata in nodedata]\n",
    "\n",
    "        pos = GraphPlotter._topological_sort(g)\n",
    "        nx.draw_networkx_labels(g, pos, labels=ylabels, ax=ax)\n",
    "        nx.draw_networkx_nodes(g, pos, ax=ax, node_color=mplt.cm.coolwarm(norm(y)))\n",
    "        nx.draw_networkx_edges(g, pos, ax=ax);\n",
    "    return fig, axes"
   ]
  },
  {
   "cell_type": "markdown",
   "metadata": {
    "pycharm": {
     "name": "#%% md\n"
    }
   },
   "source": [
    "### CircuitGenerator"
   ]
  },
  {
   "cell_type": "code",
   "execution_count": 8,
   "metadata": {},
   "outputs": [],
   "source": [
    "import networkx as nx\n",
    "import numpy as np\n",
    "import torch\n",
    "from itertools import permutations\n",
    "from functools import partial\n",
    "from typing import Tuple, Hashable, List\n",
    "import itertools\n",
    "from tqdm.auto import tqdm\n",
    "\n",
    "\n",
    "def has_cycle(g: nx.DiGraph) -> bool:\n",
    "    try:\n",
    "        nx.find_cycle(g)\n",
    "        return True\n",
    "    except nx.NetworkXNoCycle:\n",
    "        return False\n",
    "\n",
    "\n",
    "def to_one_hot(arr: torch.tensor, mx: int):\n",
    "    oh = torch.zeros((arr.shape[0], mx))\n",
    "    for i, a in enumerate(arr):\n",
    "        oh[i, a] = 1.0\n",
    "    return oh\n",
    "\n",
    "\n",
    "def sigmoid(x, a, kd, n, offset, inv):\n",
    "    return a - (a) / (1. + np.exp((-x + kd) * n * inv)) + offset\n",
    "\n",
    "# class Augment:\n",
    "#     @staticmethod\n",
    "#     def add_all_edges(g):\n",
    "#         nodes = list(g.nodes())\n",
    "#         for n1, n2 in itertools.product(nodes, repeat=2):\n",
    "#             if n2 not in g[n1] or g[n1][n2] is None or len(g[n1][n2]) == 0:\n",
    "#                 g.add_edge(n1, n2, features=torch.tensor([0.]), target=torch.tensor([0.]))\n",
    "#         return g\n",
    "\n",
    "# TODO: record data generation parameters\n",
    "# TODO: record actual parameters\n",
    "# TODO: record actual data\n",
    "class CircuitGenerator(object):\n",
    "\n",
    "    functions = {\n",
    "        'sigmoid': sigmoid\n",
    "    }\n",
    "\n",
    "    def __init__(self, n_parts: int):\n",
    "        self.n_parts = n_parts\n",
    "        self.func_name = 'sigmoid'\n",
    "        assert self.func_name in self.functions\n",
    "        params, labels = self.random_params(self.n_parts)\n",
    "        self.params = params\n",
    "        self.param_labels = params\n",
    "#         self.func_params = {\n",
    "#             'A': {\n",
    "#                 'min': 19,\n",
    "#                 'max': 20,\n",
    "#                 'distribution': 'uniform'\n",
    "#             },\n",
    "#             'K': {\n",
    "#                 'min': 19,\n",
    "#                 'max': 20,\n",
    "#                 'distribution': 'uniform'\n",
    "#             },\n",
    "#             'n': {\n",
    "#                 'min': 1.9,\n",
    "#                 'max': 2.,\n",
    "#                 'distribution': 'uniform'\n",
    "#             },\n",
    "#             'o': {\n",
    "#                 'min': 0,\n",
    "#                 'max': 'A.max() / 10.'\n",
    "#             }\n",
    "#         }\n",
    "\n",
    "    @property\n",
    "    def func(self):\n",
    "        return self.functions[self.func_name]\n",
    "\n",
    "    def random_params(self, num):\n",
    "        A = np.random.uniform(19, 20, size=(num))\n",
    "        K = np.random.uniform(1, 2, size=(num))\n",
    "        n = np.random.uniform(1.9, 2, size=(num))\n",
    "        o = np.random.uniform(0, A.max() / 10., size=(num))\n",
    "\n",
    "        A = np.expand_dims(A, 1)\n",
    "        K = np.expand_dims(K, 1)\n",
    "        n = np.expand_dims(n, 1)\n",
    "        o = np.expand_dims(o, 1)\n",
    "\n",
    "        # choose repressor (1) or activator (-1)\n",
    "        i = np.random.choice([1], (num, 1))\n",
    "\n",
    "        # [n_parts, n_params]\n",
    "        params = np.hstack([A, K, n, o, i])\n",
    "        labels = np.array(['A', 'K', 'n', 'o', 'i'])\n",
    "        return params, labels\n",
    "\n",
    "    def steady_state(self, g, acc='sum', node_to_part=lambda x: int(x)):\n",
    "        acc_dict = {\n",
    "            'sum': lambda x: np.sum(np.concatenate(x))\n",
    "        }\n",
    "\n",
    "        # in topological order, we evaluate the sigmoid function at each node\n",
    "        for node in nx.topological_sort(g):\n",
    "\n",
    "            idx = node_to_part(node)\n",
    "            # gather all parents\n",
    "            # accumulate outputs 'y' using the provided accumulation function\n",
    "            parents = list(g.predecessors(node))\n",
    "            if not parents:\n",
    "                p = np.expand_dims(self.params[idx:idx + 1].T, 2)\n",
    "                x = np.array([[0.]])\n",
    "            else:\n",
    "                a = []\n",
    "                for p in parents:\n",
    "                    _x = g.nodes[p]['y']\n",
    "                    a.append(_x)\n",
    "                if len(a) and len(a[0]):\n",
    "                    x = acc_dict[acc](a)\n",
    "                    x = x.reshape(_x.shape)\n",
    "                else:\n",
    "                    x = torch.tensor([], dtype=torch.float)\n",
    "            y = self._partial_func(self.func_name, x, idx)\n",
    "            g.nodes[node]['y'] = y\n",
    "\n",
    "    def _partial_func(self, fname, x, node: Hashable):\n",
    "        return self.functions[fname](x, *tuple(np.expand_dims(self.params[node:node + 1].T, 2)))\n",
    "\n",
    "    def annotate_graph_with_features(self, g: nx.DiGraph, include_target: bool = True):\n",
    "        # one-hot encode the graph nodes\n",
    "        one_hot_encoded = to_one_hot(torch.arange(0, self.n_parts), self.n_parts)\n",
    "\n",
    "        new_g = nx.DiGraph()\n",
    "        for n, data in g.nodes(data=True):\n",
    "            new_g.add_node(n, **data)\n",
    "        for n1, n2, edata in g.edges(data=True):\n",
    "            edata['features'] = np.array([0.])\n",
    "            if include_target:\n",
    "                edata['target'] = np.array([1.])\n",
    "            new_g.add_edge(n1, n2, **edata)\n",
    "        if include_target:\n",
    "            self.steady_state(new_g, node_to_part=lambda x: x[-1])\n",
    "        for n, ndata in new_g.nodes(data=True):\n",
    "            # convert this to ONE HOT!\n",
    "            ndata['features'] = one_hot_encoded[list(n)[-1]]\n",
    "            if include_target:\n",
    "                ndata['target'] = torch.tensor([ndata['y'].flatten()], dtype=torch.float)\n",
    "        new_g.data = {\n",
    "            'features': torch.tensor([0])\n",
    "        }\n",
    "        if include_target:\n",
    "            new_g.data['target'] = torch.tensor([0])\n",
    "\n",
    "        return new_g\n",
    "\n",
    "    @staticmethod\n",
    "    def graph_from_nodes(nodes: List[Tuple[Hashable, Hashable, Hashable]]) -> nx.DiGraph:\n",
    "        g = nx.DiGraph()\n",
    "        for n1, n2 in permutations(nodes, r=2):\n",
    "            if n1[-1] in (n2[0], n2[1]):\n",
    "                g.add_edge(tuple(n1), tuple(n2))\n",
    "        return g\n",
    "\n",
    "    def random_circuit(self, part_range: Tuple[int, int]):\n",
    "        num_nodes = np.random.randint(*part_range)\n",
    "        nodes = np.random.randint(0, self.n_parts, size=(num_nodes, 3))\n",
    "        g = self.graph_from_nodes(nodes)\n",
    "        return g\n",
    "\n",
    "    def iter_random_circuit(self, limit: int, part_range: Tuple[int, int], cycles: bool = True, annotate: bool = False) -> nx.DiGraph:\n",
    "        new_circuit = partial(self.random_circuit, part_range=part_range)\n",
    "        for i in range(limit):\n",
    "            c = new_circuit()\n",
    "            if cycles is True:\n",
    "                pass\n",
    "            else:\n",
    "                while has_cycle(c):\n",
    "                    c = new_circuit()\n",
    "            if annotate:\n",
    "                c = self.annotate_graph_with_features(c)\n",
    "            yield c\n"
   ]
  },
  {
   "cell_type": "code",
   "execution_count": 9,
   "metadata": {},
   "outputs": [
    {
     "data": {
      "text/plain": [
       "(<Figure size 720x720 with 1 Axes>,\n",
       " [<matplotlib.axes._subplots.AxesSubplot at 0x7ffa0fcaf110>])"
      ]
     },
     "execution_count": 9,
     "metadata": {},
     "output_type": "execute_result"
    },
    {
     "data": {
      "image/png": "[encoded data removed]",
      "text/plain": [
       "<Figure size 720x720 with 1 Axes>"
      ]
     },
     "metadata": {},
     "output_type": "display_data"
    }
   ],
   "source": [
    "g = CircuitGenerator.graph_from_nodes(\n",
    "    [\n",
    "(2, 5, 16), (16, 3, 8), (4, 16, 3), (8, 1, 17), (7, 3, 18)\n",
    "    ]\n",
    ")\n",
    "make_deterministic(5)\n",
    "gen = CircuitGenerator(22)\n",
    "                       \n",
    "g = gen.annotate_graph_with_features(g)\n",
    "plot_example_graphs([g], rows=1, cols=1)"
   ]
  },
  {
   "cell_type": "markdown",
   "metadata": {
    "pycharm": {
     "name": "#%% md\n"
    }
   },
   "source": [
    "#### Create Circuits\n",
    "\n",
    "TODO: Save data generation parameters (function, part range, number of parts, parameters, number of graphs)\n",
    "\n",
    "TODO: Save graphs as `.h5` file"
   ]
  },
  {
   "cell_type": "markdown",
   "metadata": {
    "pycharm": {
     "name": "#%% md\n"
    }
   },
   "source": [
    "## Data Generators"
   ]
  },
  {
   "cell_type": "code",
   "execution_count": 10,
   "metadata": {},
   "outputs": [],
   "source": [
    "import random\n",
    "import torch\n",
    "import numpy\n",
    "from pyrographnets.data import *\n",
    "def split(arr, x):\n",
    "    assert x > 0 and x <= 1\n",
    "    i = int(len(arr)*x)\n",
    "    j = len(arr) - i\n",
    "    return arr[:i], arr[j:]\n",
    "\n",
    "# test circuit generation process\n",
    "make_deterministic(0)\n",
    "generator = CircuitGenerator(20)\n",
    "\n",
    "# new data\n",
    "# ability to generalize larger circuits\n",
    "def generate_data(train_size, train_part_range, devtest_size, devtest_part_range, train__train_dev_split=0.9, dev_test_split=0.5):\n",
    "    # training distribution\n",
    "    training_distribution = list(generator.iter_random_circuit(train_size, train_part_range, cycles=False, annotate=True))\n",
    "    train_graphs, train_dev_graphs = split(training_distribution, train__train_dev_split)\n",
    "\n",
    "    # dev/test distribution\n",
    "    test_dev_distribution = list(generator.iter_random_circuit(devtest_size, devtest_part_range, cycles=False, annotate=True))\n",
    "    dev_graphs, test_graphs = split(test_dev_distribution, dev_test_split)\n",
    "    return {\n",
    "        'train': train_graphs,\n",
    "        'train/dev': train_dev_graphs,\n",
    "        'dev': dev_graphs,\n",
    "        'test': test_graphs\n",
    "    }\n",
    "# augmenting edges results in loss of learning ability\n",
    "# [Augment.add_all_edges(g) for g in tqdm(graphs)]\n",
    "\n",
    "def create_loader(graphs, batch_size, shuffle):\n",
    "    train_batch = GraphBatch.from_networkx_list(graphs, n_edge_feat=1, n_node_feat=generator.n_parts, n_glob_feat=1)\n",
    "    target_batch = GraphBatch.from_networkx_list(graphs, n_edge_feat=16, n_node_feat=1, n_glob_feat=1, feature_key='target')\n",
    "    train_list = train_batch.to_data_list()\n",
    "    target_list = target_batch.to_data_list()\n",
    "    if batch_size is None:\n",
    "        batch_size = len(train_list)\n",
    "    return GraphDataLoader(list(zip(train_list, target_list)), batch_size=batch_size, shuffle=shuffle)\n",
    "  \n",
    "    \n",
    "data = generate_data(10000, (2, 6), 2000, (2, 8))\n",
    "train_loader = create_loader(data[\"train\"], 512, shuffle=True)\n",
    "eval_loader = create_loader(data[\"train/dev\"], None, shuffle=False)\n",
    "\n",
    "for a, b in eval_loader:\n",
    "    pass\n",
    "assert a"
   ]
  },
  {
   "cell_type": "code",
   "execution_count": 11,
   "metadata": {},
   "outputs": [
    {
     "data": {
      "image/png": "[encoded data removed]",
      "text/plain": [
       "<Figure size 720x720 with 16 Axes>"
      ]
     },
     "metadata": {
      "needs_background": "light"
     },
     "output_type": "display_data"
    }
   ],
   "source": [
    "plot_example_graphs(data['train'][10:]);"
   ]
  },
  {
   "cell_type": "code",
   "execution_count": 12,
   "metadata": {},
   "outputs": [
    {
     "data": {
      "image/png": "[encoded data removed]",
      "text/plain": [
       "<Figure size 720x720 with 16 Axes>"
      ]
     },
     "metadata": {
      "needs_background": "light"
     },
     "output_type": "display_data"
    }
   ],
   "source": [
    "plot_example_graphs(data['train/dev']);"
   ]
  },
  {
   "cell_type": "markdown",
   "metadata": {},
   "source": [
    "#### Check Data Generation Process"
   ]
  },
  {
   "cell_type": "code",
   "execution_count": 13,
   "metadata": {},
   "outputs": [
    {
     "data": {
      "image/png": "[encoded data removed]",
      "text/plain": [
       "<Figure size 144x144 with 1 Axes>"
      ]
     },
     "metadata": {},
     "output_type": "display_data"
    },
    {
     "name": "stdout",
     "output_type": "stream",
     "text": [
      "(1, 10, 16)\n",
      "[[0.91190511]]\n",
      "(10, 18, 15)\n",
      "[[19.66976334]]\n",
      "(12, 14, 1)\n",
      "[[7.85651077]]\n",
      "(15, 4, 14)\n",
      "[[1.8702534]]\n",
      "(16, 1, 13)\n",
      "[[1.57443949]]\n",
      "(array([16]),)\n",
      "(array([15]),)\n",
      "(array([1]),)\n",
      "(array([14]),)\n",
      "(array([13]),)\n"
     ]
    },
    {
     "data": {
      "text/plain": [
       "tensor([[ 0.9119],\n",
       "        [19.6698],\n",
       "        [ 7.8565],\n",
       "        [ 1.8703],\n",
       "        [ 1.5744]])"
      ]
     },
     "execution_count": 13,
     "metadata": {},
     "output_type": "execute_result"
    }
   ],
   "source": [
    "index = 'not and index'\n",
    "g1 = None\n",
    "\n",
    "for i, g in enumerate(data['train']):\n",
    "    if g.number_of_nodes() > 4:\n",
    "        g1 = g\n",
    "        index = i\n",
    "        break\n",
    "g1 = data['train'][index]\n",
    "g1\n",
    "plot_example_graphs([g1], rows=1, cols=1, figsize=(2, 2))\n",
    "plt.show()\n",
    "\n",
    "gbatch = GraphBatch.from_networkx_list([g1], n_edge_feat=1, n_node_feat=generator.n_parts, n_glob_feat=1)\n",
    "for n in sorted(g1.nodes()):\n",
    "    print(n)\n",
    "    print(g1.nodes[n]['y'])\n",
    "for _x in gbatch.x:\n",
    "    print(np.where(_x == 1))\n",
    "    \n",
    "inspect_loader = list(create_loader([g1], 1, False))\n",
    "inspect_loader[0][1].x"
   ]
  },
  {
   "cell_type": "code",
   "execution_count": 14,
   "metadata": {},
   "outputs": [],
   "source": [
    "inspect_loader = list(create_loader([g1], 1, False))"
   ]
  },
  {
   "cell_type": "code",
   "execution_count": 15,
   "metadata": {},
   "outputs": [
    {
     "data": {
      "text/plain": [
       "tensor([[0., 0., 0., 0., 0., 0., 0., 0., 0., 0., 0., 0., 0., 0., 0., 0., 1., 0.,\n",
       "         0., 0.],\n",
       "        [0., 0., 0., 0., 0., 0., 0., 0., 0., 0., 0., 0., 0., 0., 0., 1., 0., 0.,\n",
       "         0., 0.],\n",
       "        [0., 1., 0., 0., 0., 0., 0., 0., 0., 0., 0., 0., 0., 0., 0., 0., 0., 0.,\n",
       "         0., 0.],\n",
       "        [0., 0., 0., 0., 0., 0., 0., 0., 0., 0., 0., 0., 0., 0., 1., 0., 0., 0.,\n",
       "         0., 0.],\n",
       "        [0., 0., 0., 0., 0., 0., 0., 0., 0., 0., 0., 0., 0., 1., 0., 0., 0., 0.,\n",
       "         0., 0.]])"
      ]
     },
     "execution_count": 15,
     "metadata": {},
     "output_type": "execute_result"
    }
   ],
   "source": [
    "inspect_loader[0][0].x"
   ]
  },
  {
   "cell_type": "code",
   "execution_count": 16,
   "metadata": {},
   "outputs": [
    {
     "data": {
      "text/plain": [
       "tensor([[ 0.9119],\n",
       "        [19.6698],\n",
       "        [ 7.8565],\n",
       "        [ 1.8703],\n",
       "        [ 1.5744]])"
      ]
     },
     "execution_count": 16,
     "metadata": {},
     "output_type": "execute_result"
    }
   ],
   "source": [
    "inspect_loader[0][1].x"
   ]
  },
  {
   "cell_type": "markdown",
   "metadata": {},
   "source": [
    "# Model"
   ]
  },
  {
   "cell_type": "markdown",
   "metadata": {
    "pycharm": {
     "name": "#%% md\n"
    }
   },
   "source": [
    "## MLP"
   ]
  },
  {
   "cell_type": "code",
   "execution_count": 17,
   "metadata": {},
   "outputs": [],
   "source": [
    "from typing import List\n",
    "\n",
    "from torch import nn\n",
    "\n",
    "from pyrographnets.utils import pairwise\n",
    "\n",
    "class MLPBlock(nn.Module):\n",
    "    \"\"\"A multilayer perceptron block.\"\"\"\n",
    "\n",
    "    def __init__(self, input_size: int, output_size: int = None):\n",
    "        super().__init__()\n",
    "        if output_size is None:\n",
    "            output_size = input_size\n",
    "        self.blocks = nn.Sequential(\n",
    "            nn.Linear(input_size, output_size), nn.ReLU(), nn.LayerNorm(output_size)\n",
    "        )\n",
    "\n",
    "    def forward(self, x):\n",
    "        return self.blocks(x)\n",
    "\n",
    "\n",
    "class MLP(nn.Module):\n",
    "    \"\"\"A multilayer perceptron.\"\"\"\n",
    "\n",
    "    def __init__(self, *latent_sizes: List[int]):\n",
    "        super().__init__()\n",
    "        self.blocks = nn.Sequential(\n",
    "            *[MLPBlock(n1, n2) for n1, n2 in pairwise(latent_sizes)]\n",
    "        )\n",
    "\n",
    "    def forward(self, x):\n",
    "        return self.blocks(x)"
   ]
  },
  {
   "cell_type": "markdown",
   "metadata": {
    "pycharm": {
     "name": "#%% md\n"
    }
   },
   "source": [
    "## Network"
   ]
  },
  {
   "cell_type": "code",
   "execution_count": 54,
   "metadata": {},
   "outputs": [],
   "source": [
    "from pyrographnets.models import GraphEncoder, GraphCore\n",
    "from pyrographnets.blocks import EdgeBlock, NodeBlock, GlobalBlock, AggregatingEdgeBlock, AggregatingGlobalBlock, AggregatingNodeBlock, Aggregator\n",
    "from pyrographnets.blocks import Flex\n",
    "from pyrographnets.blocks import MLP\n",
    "\n",
    "class Network(torch.nn.Module):\n",
    "    \n",
    "    def __init__(self, latent_sizes=(128, 128, 1), \n",
    "                 depths=(1, 1, 1),\n",
    "                 pass_global_to_edge: bool = True, \n",
    "                 pass_global_to_node: bool = True):  \n",
    "        super().__init__()\n",
    "        self.config = {\n",
    "            'latent_size': {\n",
    "                'node': latent_sizes[1],\n",
    "                'edge': latent_sizes[0],\n",
    "                'global': latent_sizes[2],\n",
    "                'core_node_block_depth': depths[0],\n",
    "                'core_edge_block_depth': depths[1],\n",
    "                'core_global_block_depth': depths[2]\n",
    "            },\n",
    "            'node_block_aggregator': 'add',\n",
    "            'global_block_to_node_aggregator': 'add',\n",
    "            'global_block_to_edge_aggregator': 'add',\n",
    "            'pass_global_to_edge': pass_global_to_edge,\n",
    "            'pass_global_to_node': pass_global_to_node\n",
    "        }\n",
    "        self.encoder = GraphEncoder(\n",
    "            EdgeBlock(Flex(MLP)(Flex.d(), latent_sizes[0])),\n",
    "            NodeBlock(Flex(MLP)(Flex.d(), latent_sizes[1])),\n",
    "            GlobalBlock(Flex(MLP)(Flex.d(), latent_sizes[2]))\n",
    "        )\n",
    "        \n",
    "        edge_layers = [self.config['latent_size']['edge']]*self.config['latent_size']['core_edge_block_depth']\n",
    "        node_layers = [self.config['latent_size']['node']]*self.config['latent_size']['core_node_block_depth']\n",
    "        global_layers = [self.config['latent_size']['global']]*self.config['latent_size']['core_global_block_depth']\n",
    "        \n",
    "        self.core = GraphCore(\n",
    "            AggregatingEdgeBlock(torch.nn.Sequential(\n",
    "                Flex(MLP)(Flex.d(), *edge_layers),\n",
    "#                 torch.nn.Linear(latent_sizes[0], latent_sizes[0])\n",
    "            )),\n",
    "            AggregatingNodeBlock(torch.nn.Sequential(\n",
    "                Flex(MLP)(Flex.d(), *node_layers),\n",
    "#                 torch.nn.Linear(latent_sizes[1], latent_sizes[1])\n",
    "            ), Aggregator(self.config['node_block_aggregator'])),\n",
    "            AggregatingGlobalBlock(Flex(MLP)(Flex.d(), *global_layers), \n",
    "                                   edge_aggregator=Aggregator(self.config['global_block_to_edge_aggregator']), \n",
    "                                   node_aggregator=Aggregator(self.config['global_block_to_node_aggregator'])),\n",
    "            pass_global_to_edge=self.config['pass_global_to_edge'],\n",
    "            pass_global_to_node=self.config['pass_global_to_node']\n",
    "        )\n",
    "        \n",
    "        self.decoder = GraphEncoder(\n",
    "            EdgeBlock(Flex(MLP)(   Flex.d(),   latent_sizes[0], latent_sizes[0])),\n",
    "            NodeBlock(Flex(MLP)(   Flex.d(),   latent_sizes[1], latent_sizes[1])),\n",
    "            GlobalBlock(Flex(MLP)( Flex.d(),   latent_sizes[2]))\n",
    "        )\n",
    "                \n",
    "        self.output_transform = GraphEncoder(\n",
    "            EdgeBlock(Flex(torch.nn.Linear)(Flex.d(), 1)),\n",
    "            NodeBlock(Flex(torch.nn.Linear)(Flex.d(), 1)),\n",
    "            GlobalBlock(Flex(torch.nn.Linear)(Flex.d(), 1)),\n",
    "        )\n",
    "        \n",
    "    def forward(self, data, steps):\n",
    "\n",
    "        # encoded\n",
    "        e, x, g = self.encoder(data)\n",
    "        data = GraphBatch(x, e, g, data.edges, data.node_idx, data.edge_idx)\n",
    "        \n",
    "        # graph topography data\n",
    "        edges = data.edges\n",
    "        node_idx = data.node_idx\n",
    "        edge_idx = data.edge_idx\n",
    "        latent0 = data\n",
    "        \n",
    "        meta = (edges, node_idx, edge_idx)\n",
    "        \n",
    "        outputs = []\n",
    "        for _ in range(steps):\n",
    "            # core processing step\n",
    "            e = torch.cat([latent0.e, e], dim=1)\n",
    "            x = torch.cat([latent0.x, x], dim=1)\n",
    "            g = torch.cat([latent0.g, g], dim=1)\n",
    "            data = GraphBatch(x, e, g, *meta)\n",
    "            e, x, g = self.core(data)\n",
    "        \n",
    "            # decode \n",
    "            data = GraphBatch(x, e, g, *meta)\n",
    "            \n",
    "            _e, _x, _g = self.decoder(data)\n",
    "            decoded = GraphBatch(_x, _e, _g, *meta)\n",
    "            \n",
    "            # transform\n",
    "            _e, _x, _g = self.output_transform(decoded)\n",
    "            outputs.append(GraphBatch(_x, _e, _g, edges, node_idx, edge_idx))\n",
    "            \n",
    "        # revise connectivity\n",
    "        \n",
    "        return outputs\n",
    "        \n",
    "net = Network()\n",
    "\n",
    "for samples in train_loader:\n",
    "#     print(samples[0].x.shape)\n",
    "    out = net(samples[0], 10)"
   ]
  },
  {
   "cell_type": "markdown",
   "metadata": {
    "pycharm": {
     "name": "#%% md\n"
    }
   },
   "source": [
    "### Misc Blocks"
   ]
  },
  {
   "cell_type": "code",
   "execution_count": 48,
   "metadata": {
    "jupyter": {
     "source_hidden": true
    }
   },
   "outputs": [
    {
     "data": {
      "text/plain": [
       "[<GraphBatch size(n,e,g)=torch.Size([460, 276, 175]) features(n,e,g)=torch.Size([1, 1, 1])>,\n",
       " <GraphBatch size(n,e,g)=torch.Size([460, 276, 175]) features(n,e,g)=torch.Size([1, 1, 1])>,\n",
       " <GraphBatch size(n,e,g)=torch.Size([460, 276, 175]) features(n,e,g)=torch.Size([1, 1, 1])>,\n",
       " <GraphBatch size(n,e,g)=torch.Size([460, 276, 175]) features(n,e,g)=torch.Size([1, 1, 1])>,\n",
       " <GraphBatch size(n,e,g)=torch.Size([460, 276, 175]) features(n,e,g)=torch.Size([1, 1, 1])>,\n",
       " <GraphBatch size(n,e,g)=torch.Size([460, 276, 175]) features(n,e,g)=torch.Size([1, 1, 1])>,\n",
       " <GraphBatch size(n,e,g)=torch.Size([460, 276, 175]) features(n,e,g)=torch.Size([1, 1, 1])>,\n",
       " <GraphBatch size(n,e,g)=torch.Size([460, 276, 175]) features(n,e,g)=torch.Size([1, 1, 1])>,\n",
       " <GraphBatch size(n,e,g)=torch.Size([460, 276, 175]) features(n,e,g)=torch.Size([1, 1, 1])>,\n",
       " <GraphBatch size(n,e,g)=torch.Size([460, 276, 175]) features(n,e,g)=torch.Size([1, 1, 1])>]"
      ]
     },
     "execution_count": 48,
     "metadata": {},
     "output_type": "execute_result"
    }
   ],
   "source": [
    "import torch\n",
    "\n",
    "\n",
    "class Select(torch.nn.Module):\n",
    "    \"\"\"Differentiable select block\"\"\"\n",
    "    def __init__(self, input_size: int, output_size: int):\n",
    "        super().__init__()\n",
    "        self.blocks = torch.nn.Sequential(\n",
    "            torch.nn.Linear(input_size, output_size),\n",
    "            torch.nn.Sigmoid()\n",
    "        )\n",
    "\n",
    "    def forward(self, data: torch.Tensor, latent: torch.Tensor) -> torch.Tensor:\n",
    "        out = self.blocks(latent)\n",
    "        i = torch.where(torch.round(out) == 1)[0]\n",
    "        return data[i]\n",
    "\n",
    "class SelectIndex(torch.nn.Module):\n",
    "    \n",
    "    def __init__(self, input_size: int, output_size: int):\n",
    "        super().__init__()\n",
    "        self.blocks = torch.nn.Sequential(\n",
    "            torch.nn.Linear(input_size, output_size),\n",
    "            torch.nn.Sigmoid()\n",
    "        )\n",
    "        \n",
    "    def forward(self, data: torch.Tensor) -> torch.Tensor:\n",
    "        \"\"\"Note the output itself is NOT differentiable\"\"\"\n",
    "        out = self.blocks(data)\n",
    "        return self.blocks(data)\n",
    "\n",
    "class NewNetwork(torch.nn.Module):\n",
    "    \n",
    "    def __init__(self):\n",
    "        super().__init__()\n",
    "        self.net1 = Network()\n",
    "        self.select_index = Flex(SelectIndex)(Flex.d(), 1)\n",
    "        self.net2 = Network()\n",
    "        \n",
    "    def forward(self, data, steps1, steps2 = None):\n",
    "        if steps2 is None:\n",
    "            steps2 = steps1\n",
    "            \n",
    "        # initial processing\n",
    "        outputs = self.net1(data, steps1)\n",
    "        \n",
    "        # revise the edge connectivity\n",
    "        i = self.select_index(outputs[-1].e)\n",
    "        selected_data = GraphBatch(\n",
    "            data.x,\n",
    "            data.e * i,\n",
    "            data.g,\n",
    "            (data.edges * i.T).long(),\n",
    "            data.node_idx,\n",
    "            data.edge_idx\n",
    "        )\n",
    "        \n",
    "        # repeat the processing\n",
    "        return self.net2(selected_data, steps2)\n",
    "    \n",
    "model = NewNetwork()\n",
    "\n",
    "for samples in train_loader:\n",
    "    pass\n",
    "model(samples[0], 10)"
   ]
  },
  {
   "cell_type": "markdown",
   "metadata": {},
   "source": [
    "# Train Utilities"
   ]
  },
  {
   "cell_type": "markdown",
   "metadata": {
    "pycharm": {
     "name": "#%% md\n"
    }
   },
   "source": [
    "## Visualization Utilities"
   ]
  },
  {
   "cell_type": "code",
   "execution_count": 49,
   "metadata": {},
   "outputs": [],
   "source": [
    "import seaborn as sns\n",
    "\n",
    "def plot_kinetics(model, data, steps):\n",
    "    \n",
    "    with torch.no_grad():\n",
    "        out = model(data, steps)\n",
    "        x_arr = []\n",
    "        for i, data in enumerate(out):\n",
    "            t = torch.tensor([[i]] * data.x.shape[0], dtype=torch.float)\n",
    "            index = torch.unsqueeze(torch.arange(data.x.shape[0], dtype=torch.float), 1)\n",
    "            index = index.to(data.x.device)\n",
    "            t = t.to(data.x.device)\n",
    "            x = torch.cat([t, data.x, index], dim=1)\n",
    "            x_arr.append(x)\n",
    "\n",
    "        x = torch.cat(x_arr)\n",
    "        df = pd.DataFrame({\n",
    "            't': x[:, 0].detach().cpu(),\n",
    "            'x': x[:, 1].detach().cpu(),\n",
    "            'node': x[:, 2].detach().cpu()\n",
    "        })\n",
    "        df = df[df['node'] < 20]\n",
    "        fig = plt.figure(figsize=(10, 10))\n",
    "        ax = fig.gca()\n",
    "        ax.set_ylim(-5, 20)\n",
    "        sns.lineplot(x='t', y='x', hue='node', data=df, ax=ax)\n",
    "        \n",
    "    return ax, fig"
   ]
  },
  {
   "cell_type": "markdown",
   "metadata": {},
   "source": [
    "# Train"
   ]
  },
  {
   "cell_type": "code",
   "execution_count": 50,
   "metadata": {},
   "outputs": [
    {
     "data": {
      "text/plain": [
       "{'graphs': {'sum': 4747,\n",
       "  'batch_mean': 249.8421052631579,\n",
       "  'batch_std': 17.64045338328545,\n",
       "  'batch_indegree_mean': 0.6005095,\n",
       "  'batch_outdegree_mean': 0.6005095,\n",
       "  'batch_indegree_std': 0.0072900914,\n",
       "  'batch_outdegree_std': 0.0072900914},\n",
       " 'edges': {'sum': 7593,\n",
       "  'batch_mean': 399.63157894736844,\n",
       "  'batch_std': 28.015429069139348},\n",
       " 'nodes': {'sum': 12644,\n",
       "  'batch_mean': 665.4736842105264,\n",
       "  'batch_std': 45.54623841542805}}"
      ]
     },
     "execution_count": 50,
     "metadata": {},
     "output_type": "execute_result"
    }
   ],
   "source": [
    "def degree(graph_batch, i):\n",
    "    number_of_nodes = graph_batch.x.shape[0]\n",
    "    counts = torch.unique(graph_batch.edges[i], return_counts=True)[1]\n",
    "    degree = torch.cat([counts, torch.zeros(number_of_nodes - counts.shape[0], dtype=torch.long)]).to(torch.float)\n",
    "    return degree.mean(), degree.std()\n",
    "\n",
    "def loader_summary(loader: GraphDataLoader):\n",
    "    x = []\n",
    "    e = []\n",
    "    g = []\n",
    "    edges = []\n",
    "    indegrees = []\n",
    "    outdegrees = []\n",
    "    for d, _ in loader:\n",
    "        number_of_nodes = d.x.shape[0]\n",
    "        number_of_edges = d.e.shape[0]\n",
    "        number_of_graphs = d.g.shape[0]\n",
    "        \n",
    "        x.append(number_of_nodes)\n",
    "        e.append(number_of_edges)\n",
    "        g.append(number_of_graphs)\n",
    "\n",
    "        indegrees.append(degree(d, 1)[0])\n",
    "        outdegrees.append(degree(d, 0)[0])\n",
    "\n",
    "    x = np.array(x)\n",
    "    e = np.array(e)\n",
    "    g = np.array(g)\n",
    "    indegrees = np.array(indegrees)\n",
    "    outdegrees = np.array(outdegrees)\n",
    "    \n",
    "    \n",
    "    info = {\n",
    "        'graphs': {\n",
    "            'sum': g.sum(),\n",
    "            'batch_mean': g.mean(),\n",
    "            'batch_std': g.std(),\n",
    "            'batch_indegree_mean': indegrees.mean(),\n",
    "            'batch_outdegree_mean': outdegrees.mean(),\n",
    "            'batch_indegree_std': indegrees.std(),\n",
    "            'batch_outdegree_std': outdegrees.std(),\n",
    "        },\n",
    "        'edges': {\n",
    "            'sum': e.sum(),\n",
    "            'batch_mean': e.mean(),\n",
    "            'batch_std': e.std()\n",
    "        },\n",
    "        'nodes': {          \n",
    "            'sum': x.sum(),\n",
    "            'batch_mean': x.mean(),\n",
    "            'batch_std': x.std()\n",
    "        }\n",
    "    }\n",
    "\n",
    "    return info\n",
    "\n",
    "loader_summary(train_loader)\n"
   ]
  },
  {
   "cell_type": "code",
   "execution_count": null,
   "metadata": {
    "collapsed": false,
    "jupyter": {
     "outputs_hidden": false
    },
    "pycharm": {
     "name": "#%%\n"
    }
   },
   "outputs": [
    {
     "data": {
      "text/html": [
       "\n",
       "                Logging results to <a href=\"https://wandb.com\" target=\"_blank\">Weights & Biases</a> <a href=\"https://docs.wandb.com/integrations/jupyter.html\" target=\"_blank\">(Documentation)</a>.<br/>\n",
       "                Project page: <a href=\"https://app.wandb.ai/jvrana/CircuitSeq\" target=\"_blank\">https://app.wandb.ai/jvrana/CircuitSeq</a><br/>\n",
       "                Run page: <a href=\"https://app.wandb.ai/jvrana/CircuitSeq/runs/3qefdk66\" target=\"_blank\">https://app.wandb.ai/jvrana/CircuitSeq/runs/3qefdk66</a><br/>\n",
       "            "
      ],
      "text/plain": [
       "<IPython.core.display.HTML object>"
      ]
     },
     "metadata": {},
     "output_type": "display_data"
    },
    {
     "name": "stdout",
     "output_type": "stream",
     "text": [
      "torch.Size([20, 1, 1])\n"
     ]
    },
    {
     "data": {
      "application/vnd.jupyter.widget-view+json": {
       "model_id": "4dc3fc7b590e4dbfa4d4e1961f2b93ef",
       "version_major": 2,
       "version_minor": 0
      },
      "text/plain": [
       "HBox(children=(FloatProgress(value=0.0, max=3000.0), HTML(value='')))"
      ]
     },
     "metadata": {},
     "output_type": "display_data"
    }
   ],
   "source": [
    "######################################################################################\n",
    "\n",
    "import wandb\n",
    "PROJECT=\"CircuitSeq\"\n",
    "\n",
    "notes = \"\"\"\n",
    "Exploring how graph deep learning models train on simulated regulatory network data.\n",
    "20200808 Fixing training and data generation process\n",
    "\"\"\"\n",
    "\n",
    "wandb.init(\n",
    "    project=\"CircuitSeq\", \n",
    "    tags=['explore', 'regulatory networks', 'simulated data', 'circuitseq'],\n",
    "    entity='jvrana',\n",
    "    save_code=False, \n",
    "    group=\"explore\",\n",
    "    notes=notes.strip()\n",
    ")\n",
    "\n",
    "######################################################################################\n",
    "\n",
    "from pyrographnets.utils.tensorboard import new_writer\n",
    "from pyrographnets.data import GraphBatch, GraphDataLoader\n",
    "from tqdm.auto import tqdm\n",
    "from pyrographnets.utils import _first\n",
    "\n",
    "device = 'cuda:0'\n",
    "\n",
    "# # new tensorboard writer\n",
    "# writer = new_writer('runs/circuit_seq')\n",
    "\n",
    "# new model\n",
    "net = Network((16, 16, 1), (10, 10, 1), False, False)\n",
    "\n",
    "train_loader = create_loader(data[\"train\"], 254, shuffle=True)\n",
    "eval_loader = create_loader(data[\"train/dev\"], None, shuffle=False)\n",
    "\n",
    "PROCESSING_STEPS = 10\n",
    "wandb.config.update(net.config)\n",
    "wandb.config.update({\n",
    "    'processing_steps': PROCESSING_STEPS\n",
    "})\n",
    "wandb.config.update({\n",
    "    'train': {\n",
    "        'loader_summary': loader_summary(train_loader)\n",
    "    },\n",
    "    'eval': {\n",
    "        'loader_summary': loader_summary(eval_loader)\n",
    "    }\n",
    "})\n",
    "\n",
    "with torch.no_grad():\n",
    "    batch, _ = _first(train_loader)\n",
    "    print(batch.shape)\n",
    "    out = net(batch, 3)\n",
    "# print(out.x)\n",
    "net.to(device)\n",
    "\n",
    "def to(batch, device):\n",
    "    return GraphBatch(\n",
    "        batch.x.to(device),\n",
    "        batch.e.to(device),\n",
    "        batch.g.to(device),\n",
    "        batch.edges.to(device),\n",
    "        batch.node_idx.to(device),\n",
    "        batch.edge_idx.to(device)\n",
    "    )\n",
    "\n",
    "import pandas as pd\n",
    "\n",
    "def plot(target_data, out):\n",
    "    x = target_data.x.cpu().detach().numpy().flatten()\n",
    "    y = out.x.cpu().detach().numpy().flatten()\n",
    "    fig = plt.figure(figsize=(10, 10))\n",
    "    ax = fig.gca()\n",
    "    df = pd.DataFrame({'x': x, 'y': y})\n",
    "    ax = sns.scatterplot('x', 'y', data=df, ax=ax)\n",
    "    ax.set_ylim(-5, 20)\n",
    "    ax.set_xlim(-5, 20)\n",
    "    return ax, fig\n",
    "\n",
    "# training\n",
    "make_deterministic(0)\n",
    "\n",
    "optimizer = torch.optim.AdamW(net.parameters(), lr=0.001, weight_decay=1e-4)\n",
    "loss_fn = torch.nn.MSELoss()\n",
    "\n",
    "net.train()\n",
    "for epoch in tqdm(range(3000)):\n",
    "    net.train()\n",
    "    running_loss = 0.\n",
    "    \n",
    "    for batch_idx, (train_data, target_data) in enumerate(train_loader):\n",
    "        train_data.contiguous()\n",
    "        target_data.contiguous()\n",
    "        target_data = target_data.clone()\n",
    "#         target_data.x = torch.randn(*target_data.x.shape) * 0.1 + target_data.x\n",
    "#             test_data = batch.mask(*test_mask)\n",
    "#             target_data = batch.mask(*test_mask, invert=True)\n",
    "        train_data = to(train_data, device)\n",
    "        target_data = to(target_data, device)\n",
    "        out = net(train_data, PROCESSING_STEPS)\n",
    "        assert out[-1].x.shape == target_data.x.shape\n",
    "        \n",
    "        optimizer.zero_grad()\n",
    "        \n",
    "        # TODO: the scale of the loss is proporational to the processing steps and batch_size, should this be normalized???\n",
    "        loss = torch.tensor(0.).to(device)\n",
    "        for _out in out:\n",
    "            loss += loss_fn(_out.x, target_data.x)\n",
    "        loss = loss / (target_data.x.shape[0] * 1. * len(out))\n",
    "        \n",
    "        loss.backward()\n",
    "        \n",
    "        optimizer.step()\n",
    "        \n",
    "        running_loss += loss.item()\n",
    "        \n",
    "    if epoch % 10 == 0:\n",
    "        wandb.log({'test_loss': running_loss, 'epoch': epoch}, step=epoch)\n",
    "\n",
    "    if epoch % 10 == 0:\n",
    "        eval_loss = 0.\n",
    "        net.eval()\n",
    "        with torch.no_grad():\n",
    "            for eval_data, eval_target in eval_loader:\n",
    "                eval_data = to(eval_data, device)\n",
    "                eval_target = to(eval_target, device)\n",
    "                eval_outs = net(eval_data, PROCESSING_STEPS)\n",
    "                # only take loss from last output\n",
    "                eval_loss += loss_fn(eval_outs[-1].x, eval_target.x) / eval_outs[-1].x.shape[0]\n",
    "            wandb.log({'eval loss': eval_loss / eval_data.x.shape[0] * 1000, 'epoch': epoch}, step=epoch)\n",
    "    \n",
    "    \n",
    "    if epoch % 20 == 0:\n",
    "        with torch.no_grad():\n",
    "            for eval_data, eval_target in eval_loader:\n",
    "                eval_data = eval_data.to(device)\n",
    "                eval_target = to(eval_target, device)\n",
    "            predicted = net(eval_data, PROCESSING_STEPS)[-1]\n",
    "            ax, fig = plot(eval_target, predicted)\n",
    "            wandb.log({'compare': fig}, step=epoch)\n",
    "            \n",
    "            wandb.log({\n",
    "                'edge_attr': wandb.Histogram(out[-1].e.cpu()),\n",
    "                'node_attr': wandb.Histogram(out[-1].x.cpu())\n",
    "            }, step=epoch)\n"
   ]
  },
  {
   "cell_type": "markdown",
   "metadata": {},
   "source": [
    "# Model Evaluation"
   ]
  },
  {
   "cell_type": "code",
   "execution_count": null,
   "metadata": {
    "collapsed": false,
    "jupyter": {
     "outputs_hidden": false
    },
    "pycharm": {
     "name": "#%%\n"
    }
   },
   "outputs": [],
   "source": [
    "for eval_data, eval_target in eval_loader:\n",
    "    pass\n",
    "predicted = net(eval_data, PROCESSING_STEPS)[-1]\n",
    "ax, fig = plot(eval_target, predicted)"
   ]
  },
  {
   "cell_type": "code",
   "execution_count": null,
   "metadata": {},
   "outputs": [],
   "source": [
    "g = from_nodes([\n",
    "    (0, 0, 2),\n",
    "    (2, 2, 4),\n",
    "    (4, 4, 6),\n",
    "    (6, 6, 8),\n",
    "    (2, 10, 10)\n",
    "])\n",
    "g = add_features(g, False)\n",
    "for n, ndata in g.nodes(data=True):\n",
    "    print(ndata)\n",
    "batch = GraphBatch.from_networkx_list([g])\n",
    "batch = to(batch, device)\n",
    "\n",
    "plot_kinetics(net, batch, 10)\n",
    "# net(batch, 10)"
   ]
  }
 ],
 "metadata": {
  "kernelspec": {
   "display_name": "Python 3",
   "language": "python",
   "name": "python3"
  },
  "language_info": {
   "codemirror_mode": {
    "name": "ipython",
    "version": 3
   },
   "file_extension": ".py",
   "mimetype": "text/x-python",
   "name": "python",
   "nbconvert_exporter": "python",
   "pygments_lexer": "ipython3",
   "version": "3.7.7"
  },
  "pycharm": {
   "stem_cell": {
    "cell_type": "raw",
    "metadata": {
     "collapsed": false
    },
    "source": []
   }
  },
  "toc-autonumbering": true
 },
 "nbformat": 4,
 "nbformat_minor": 4
}
