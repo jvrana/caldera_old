{
 "cells": [
  {
   "cell_type": "code",
   "execution_count": 28,
   "metadata": {},
   "outputs": [
    {
     "name": "stdout",
     "output_type": "stream",
     "text": [
      "{'target': array([1.])}\n",
      "{'target': array([0.])}\n",
      "{'target': array([1.])}\n",
      "{'target': array([0.])}\n",
      "{'target': array([1.])}\n",
      "{'target': array([0.])}\n",
      "{'target': array([1.])}\n",
      "{'target': array([0.])}\n",
      "{'target': array([0.])}\n",
      "{'target': array([0.])}\n"
     ]
    },
    {
     "data": {
      "image/png": "[encoded data removed]",
      "text/plain": [
       "<Figure size 432x288 with 1 Axes>"
      ]
     },
     "metadata": {},
     "output_type": "display_data"
    }
   ],
   "source": [
    "# boolean circuit example\n",
    "import networkx as nx\n",
    "import numpy as np\n",
    "\n",
    "g =nx.random_tree(10)\n",
    "# nx.draw(g)\n",
    "\n",
    "dg = nx.DiGraph()\n",
    "for n1, n2, edata in g.edges(data=True):\n",
    "    i = np.random.randint(2)\n",
    "    if i % 2 == 0:\n",
    "        dg.add_edge(n1, n2)\n",
    "    else:\n",
    "        dg.add_edge(n2, n1)\n",
    "        \n",
    "def iter_roots(g):\n",
    "    for n in g.nodes():\n",
    "        if not list(g.predecessors(n)):\n",
    "            yield n\n",
    "nx.draw(dg)\n",
    "\n",
    "for n in iter_roots(dg):\n",
    "    dg.nodes[n]['target'] = np.array([1.])\n",
    "\n",
    "for n in nx.topological_sort(dg):\n",
    "    ndata = dg.nodes[n]\n",
    "    if 'target' not in ndata:\n",
    "        incoming = []\n",
    "        for p in dg.predecessors(n):\n",
    "            pdata = dg.nodes[p]\n",
    "            incoming.append(pdata['target'])\n",
    "        incoming = np.concatenate(incoming)\n",
    "        i = incoming.max()\n",
    "        if i == 1:\n",
    "            o = np.array([0.])\n",
    "        else:\n",
    "            o = np.array([1.])\n",
    "        ndata['target'] = o\n",
    "    \n",
    "for _, ndata in dg.nodes(data=True):\n",
    "    print(ndata)"
   ]
  },
  {
   "cell_type": "code",
   "execution_count": 25,
   "metadata": {},
   "outputs": [
    {
     "data": {
      "text/plain": [
       "\u001b[0;31mDocstring:\u001b[0m\n",
       "a.max(axis=None, out=None, keepdims=False, initial=<no value>, where=True)\n",
       "\n",
       "Return the maximum along a given axis.\n",
       "\n",
       "Refer to `numpy.amax` for full documentation.\n",
       "\n",
       "See Also\n",
       "--------\n",
       "numpy.amax : equivalent function\n",
       "\u001b[0;31mType:\u001b[0m      builtin_function_or_method\n"
      ]
     },
     "metadata": {},
     "output_type": "display_data"
    }
   ],
   "source": [
    "a = np.array([])\n",
    "a.max?"
   ]
  },
  {
   "cell_type": "code",
   "execution_count": null,
   "metadata": {},
   "outputs": [],
   "source": []
  }
 ],
 "metadata": {
  "kernelspec": {
   "display_name": "Python 3",
   "language": "python",
   "name": "python3"
  },
  "language_info": {
   "codemirror_mode": {
    "name": "ipython",
    "version": 3
   },
   "file_extension": ".py",
   "mimetype": "text/x-python",
   "name": "python",
   "nbconvert_exporter": "python",
   "pygments_lexer": "ipython3",
   "version": "3.7.7"
  }
 },
 "nbformat": 4,
 "nbformat_minor": 4
}
