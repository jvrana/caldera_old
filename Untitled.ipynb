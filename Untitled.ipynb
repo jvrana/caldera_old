{
 "cells": [
  {
   "cell_type": "code",
   "execution_count": 70,
   "metadata": {},
   "outputs": [],
   "source": [
    "from pyro_graph_nets.utils.data import random_input_output_graphs\n",
    "\n",
    "import torch\n",
    "import networkx as nx\n",
    "from collections import namedtuple\n",
    "from typing import *\n",
    "import numpy as np\n",
    "from pyro_graph_nets.utils.graph_tuple import to_graph_tuple\n",
    "\n",
    "def graph_generator(\n",
    "    n_nodes: Tuple[int, int],\n",
    "    n_features: Tuple[int, int],\n",
    "    e_features: Tuple[int, int],\n",
    "    g_features: Tuple[int, int],\n",
    "):\n",
    "    gen = random_input_output_graphs(\n",
    "        lambda: np.random.randint(*n_nodes),\n",
    "        20,\n",
    "        lambda: np.random.uniform(1, 10, n_features[0]),\n",
    "        lambda: np.random.uniform(1, 10, e_features[0]),\n",
    "        lambda: np.random.uniform(1, 10, g_features[0]),\n",
    "        lambda: np.random.uniform(1, 10, n_features[1]),\n",
    "        lambda: np.random.uniform(1, 10, e_features[1]),\n",
    "        lambda: np.random.uniform(1, 10, g_features[1]),\n",
    "        input_attr_name=\"features\",\n",
    "        target_attr_name=\"target\",\n",
    "        do_copy=False,\n",
    "    )\n",
    "    return gen\n",
    "\n",
    "gen = graph_generator((2,20), (10, 10), (5, 5), (3, 3))\n",
    "\n",
    "GraphTuple = namedtuple(\n",
    "    \"GraphTuple\",\n",
    "    [\n",
    "        \"node_attr\",  # node level attributes\n",
    "        \"edge_attr\",  # edge level attributes\n",
    "        \"global_attr\",  # global level attributes\n",
    "        \"edges\",  # node-to-node connectivity\n",
    "        \"node_indices\",  # tensor where each element indicates the index of the graph the node_attr belongs to\n",
    "        \"edge_indices\",\n",
    "        # tensor where each element indicates the index of the graph that the edge_attr and edges belong to.\n",
    "    ],\n",
    ")"
   ]
  },
  {
   "cell_type": "code",
   "execution_count": 71,
   "metadata": {},
   "outputs": [],
   "source": [
    "graphs = [next(gen) for _ in range(1000)]\n"
   ]
  },
  {
   "cell_type": "code",
   "execution_count": 72,
   "metadata": {},
   "outputs": [
    {
     "name": "stdout",
     "output_type": "stream",
     "text": [
      "32.7 ms ± 136 µs per loop (mean ± std. dev. of 7 runs, 10 loops each)\n"
     ]
    }
   ],
   "source": [
    "def test0():\n",
    "    to_graph_tuple(graphs)\n",
    "    \n",
    "def test1():\n",
    "    for _ in range(10):\n",
    "        to_graph_tuple(graphs[:100])\n",
    "        \n",
    "%timeit -n 10 test0()"
   ]
  },
  {
   "cell_type": "code",
   "execution_count": 73,
   "metadata": {},
   "outputs": [
    {
     "name": "stdout",
     "output_type": "stream",
     "text": [
      "32.8 ms ± 1.2 ms per loop (mean ± std. dev. of 7 runs, 10 loops each)\n"
     ]
    }
   ],
   "source": [
    "%timeit -n 10 test1()"
   ]
  },
  {
   "cell_type": "code",
   "execution_count": 85,
   "metadata": {},
   "outputs": [
    {
     "name": "stdout",
     "output_type": "stream",
     "text": [
      "20.2 ms ± 291 µs per loop (mean ± std. dev. of 7 runs, 10 loops each)\n",
      "33.8 ms ± 797 µs per loop (mean ± std. dev. of 7 runs, 10 loops each)\n"
     ]
    }
   ],
   "source": [
    "def pick_edge(g):\n",
    "    for x in g.edges(data=True):\n",
    "        return x\n",
    "    \n",
    "def pick_node(g):\n",
    "    for n in g.nodes(data=True):\n",
    "        return n\n",
    "    \n",
    "\n",
    "\n",
    "def to_graph_tuple_new(\n",
    "    graphs: List[nx.DiGraph],\n",
    "    feature_key: str = \"features\",\n",
    "    global_attr_key: str = \"data\",\n",
    "    requires_grad: bool = False,\n",
    "    device: str = None\n",
    ") -> GraphTuple:\n",
    "    \"\"\"Convert a list og networkx graphs into a GraphTuple.\n",
    "\n",
    "    :param graphs: list of graphs\n",
    "    :param feature_key: key to find the node, edge, and global features\n",
    "    :param global_attr_key: attribute on the NetworkX graph to find the global data (default: 'data')\n",
    "    :return: GraphTuple, a namedtuple of ['node_attr', 'edge_attr', 'global_attr',\n",
    "        'edges', 'node_inices', 'edge_indices']\n",
    "    \"\"\"\n",
    "    senders = []\n",
    "    receivers = []\n",
    "    edge_attributes = []\n",
    "    node_attributes = []\n",
    "    global_attributes = []\n",
    "    node_indices = []\n",
    "    edge_indices = []\n",
    "    \n",
    "    n_edges = 0\n",
    "    n_nodes = 0\n",
    "    for graph in graphs:\n",
    "        n_edges += graph.number_of_edges()\n",
    "        n_nodes += graph.number_of_nodes()\n",
    "    \n",
    "    n = len(graphs)\n",
    "    node_idx = np.empty(n_nodes)\n",
    "    edge_idx = np.empty(n_edges)\n",
    "    \n",
    "    edata = pick_edge(graph)[-1][feature_key]\n",
    "    vdata = pick_node(graph)[-1][feature_key]\n",
    "    udata = graph.data[feature_key]\n",
    "    connectivity = np.empty((n_edges, 2))\n",
    "    \n",
    "    v = np.empty((n_nodes, *tuple(vdata.shape)))\n",
    "    e = np.empty((n_edges, *tuple(edata.shape)))\n",
    "    u = np.empty((n, *tuple(udata.shape)))\n",
    "    \n",
    "    _v = 0\n",
    "    _e = 0\n",
    "    \n",
    "    ndict = {}\n",
    "    \n",
    "    for gidx, graph in enumerate(graphs):\n",
    "        for node, ndata in graph.nodes(data=True):\n",
    "            v[_v] = ndata[feature_key]\n",
    "            ndict[node] = _v\n",
    "            node_idx[_v] = gidx\n",
    "            _v += 1\n",
    "            \n",
    "    \n",
    "        for n1, n2, edata in graph.edges(data=True):\n",
    "            e[_e] = edata[feature_key]\n",
    "            edge_idx[_e] = gidx\n",
    "            connectivity = [ndict[n1], ndict[n2]]\n",
    "            _e += 1\n",
    "            \n",
    "    return GraphTuple(\n",
    "        torch.tensor(v, dtype=torch.float), \n",
    "        torch.tensor(e, dtype=torch.float), \n",
    "        torch.tensor(v, dtype=torch.float), \n",
    "        torch.tensor(connectivity, dtype=torch.long), \n",
    "        torch.tensor(node_idx, dtype=torch.long), \n",
    "        torch.tensor(edge_idx, dtype=torch.long)\n",
    "    )\n",
    "#     for index, graph in enumerate(graphs):\n",
    "\n",
    "#         nodes = list(graph.nodes(data=True))\n",
    "#         edges = list(graph.edges(data=True))\n",
    "\n",
    "#         new_nodes = list(\n",
    "#             range(len(node_attributes), len(node_attributes) + graph.number_of_nodes())\n",
    "#         )\n",
    "#         ndict = dict(zip([n[0] for n in nodes], new_nodes))\n",
    "\n",
    "#         if not hasattr(graph, global_attr_key):\n",
    "#             global_attributes.append([0.])\n",
    "#         else:\n",
    "#             global_attributes.append(graph.data[feature_key])\n",
    "#         for node, ndata in nodes:\n",
    "#             node_attributes.append(ndata[feature_key])\n",
    "#             node_indices.append(index)\n",
    "#         for n1, n2, edata in edges:\n",
    "#             senders.append(ndict[n1])\n",
    "#             receivers.append(ndict[n2])\n",
    "#             edge_attributes.append(edata[feature_key])\n",
    "#             edge_indices.append(index)\n",
    "\n",
    "#     def vstack(arr):\n",
    "#         if not arr:\n",
    "#             return []\n",
    "#         return np.vstack(arr)\n",
    "    \n",
    "#     node_attr = torch.tensor(vstack(node_attributes), dtype=torch.float, requires_grad=requires_grad)\n",
    "#     edge_attr = torch.tensor(vstack(edge_attributes), dtype=torch.float, requires_grad=requires_grad)\n",
    "#     edges = torch.tensor(np.vstack([senders, receivers]).T, dtype=torch.long)\n",
    "#     global_attr = torch.tensor(vstack(global_attributes), dtype=torch.float, requires_grad=requires_grad)\n",
    "#     node_indices = torch.tensor(node_indices, dtype=torch.long).detach()\n",
    "#     edge_indices = torch.tensor(edge_indices, dtype=torch.long).detach()\n",
    "#     result = GraphTuple(\n",
    "#         node_attr, edge_attr, global_attr, edges, node_indices, edge_indices\n",
    "#     )\n",
    "#     if device:\n",
    "#         return gt_to_device(result, device)\n",
    "#     return result\n",
    "\n",
    "graphs = [next(gen) for _ in range(1000)]\n",
    "\n",
    "\n",
    "def test0():\n",
    "    to_graph_tuple(graphs)\n",
    "    \n",
    "def test1():\n",
    "    to_graph_tuple_new(graphs)\n",
    "    \n",
    "\n",
    "%timeit -n 10 test1()\n",
    "%timeit -n 10 test0()"
   ]
  },
  {
   "cell_type": "code",
   "execution_count": 91,
   "metadata": {},
   "outputs": [
    {
     "data": {
      "text/plain": [
       "torch.Size([8026, 2])"
      ]
     },
     "execution_count": 91,
     "metadata": {},
     "output_type": "execute_result"
    }
   ],
   "source": [
    "def to_graph_tuple(\n",
    "        graphs: List[nx.DiGraph],\n",
    "        feature_key: str = \"features\",\n",
    "        global_attr_key: str = \"data\",\n",
    "        device: str = None\n",
    ") -> GraphTuple:\n",
    "    \"\"\"Convert a list og networkx graphs into a GraphTuple.\n",
    "\n",
    "    :param graphs: list of graphs\n",
    "    :param feature_key: key to find the node, edge, and global features\n",
    "    :param global_attr_key: attribute on the NetworkX graph to find the global data (default: 'data')\n",
    "    :return: GraphTuple, a namedtuple of ['node_attr', 'edge_attr', 'global_attr',\n",
    "        'edges', 'node_inices', 'edge_indices']\n",
    "    \"\"\"\n",
    "    senders = []\n",
    "    receivers = []\n",
    "    edge_attributes = []\n",
    "    node_attributes = []\n",
    "    global_attributes = []\n",
    "    node_indices = []\n",
    "    edge_indices = []\n",
    "\n",
    "    n_edges = 0\n",
    "    n_nodes = 0\n",
    "    for graph in graphs:\n",
    "        n_edges += graph.number_of_edges()\n",
    "        n_nodes += graph.number_of_nodes()\n",
    "\n",
    "    n = len(graphs)\n",
    "    node_idx = np.empty(n_nodes)\n",
    "    edge_idx = np.empty(n_edges)\n",
    "\n",
    "    edata = pick_edge(graph)[-1][feature_key]\n",
    "    vdata = pick_node(graph)[-1][feature_key]\n",
    "    udata = getattr(graph, global_attr_key)[feature_key]\n",
    "    connectivity = np.empty((n_edges, 2))\n",
    "\n",
    "    v = np.empty((n_nodes, *tuple(vdata.shape)))\n",
    "    e = np.empty((n_edges, *tuple(edata.shape)))\n",
    "    u = np.empty((n, *tuple(udata.shape)))\n",
    "\n",
    "    _v = 0\n",
    "    _e = 0\n",
    "\n",
    "    ndict = {}\n",
    "\n",
    "    for gidx, graph in enumerate(graphs):\n",
    "        for node, ndata in graph.nodes(data=True):\n",
    "            v[_v] = ndata[feature_key]\n",
    "            ndict[node] = _v\n",
    "            node_idx[_v] = gidx\n",
    "            _v += 1\n",
    "\n",
    "        for n1, n2, edata in graph.edges(data=True):\n",
    "            e[_e] = edata[feature_key]\n",
    "            edge_idx[_e] = gidx\n",
    "            connectivity[_e] = [ndict[n1], ndict[n2]]\n",
    "            _e += 1\n",
    "\n",
    "        u[gidx] = getattr(graph, global_attr_key)[feature_key]\n",
    "\n",
    "    result = GraphTuple(\n",
    "        torch.tensor(v, dtype=torch.float),\n",
    "        torch.tensor(e, dtype=torch.float),\n",
    "        torch.tensor(u, dtype=torch.float),\n",
    "        torch.tensor(connectivity, dtype=torch.long),\n",
    "        torch.tensor(node_idx, dtype=torch.long),\n",
    "        torch.tensor(edge_idx, dtype=torch.long)\n",
    "    )\n",
    "    if device:\n",
    "        return GraphTuple(*[x.to(device) for x in result])\n",
    "    return result\n",
    "\n",
    "to_graph_tuple(graphs).edges.shape"
   ]
  },
  {
   "cell_type": "code",
   "execution_count": null,
   "metadata": {},
   "outputs": [],
   "source": [
    "x"
   ]
  },
  {
   "cell_type": "code",
   "execution_count": 30,
   "metadata": {},
   "outputs": [
    {
     "ename": "AttributeError",
     "evalue": "'DiGraph' object has no attribute 'edge_data'",
     "output_type": "error",
     "traceback": [
      "\u001b[0;31m---------------------------------------------------------------------------\u001b[0m",
      "\u001b[0;31mAttributeError\u001b[0m                            Traceback (most recent call last)",
      "\u001b[0;32m<ipython-input-30-e646dc9ba4b6>\u001b[0m in \u001b[0;36m<module>\u001b[0;34m\u001b[0m\n\u001b[0;32m----> 1\u001b[0;31m \u001b[0mgraph\u001b[0m\u001b[0;34m.\u001b[0m\u001b[0medge_data\u001b[0m\u001b[0;34m\u001b[0m\u001b[0;34m\u001b[0m\u001b[0m\n\u001b[0m",
      "\u001b[0;31mAttributeError\u001b[0m: 'DiGraph' object has no attribute 'edge_data'"
     ]
    }
   ],
   "source": [
    "def pick_edge(g):\n",
    "    for x in g.edges(data=True):\n",
    "        return x\n",
    "    \n",
    "def pick_node(g):\n",
    "    for n in g.nodes(data=True):\n",
    "        return n\n",
    "    \n",
    "    "
   ]
  },
  {
   "cell_type": "code",
   "execution_count": 14,
   "metadata": {},
   "outputs": [
    {
     "data": {
      "text/plain": [
       "<function _VariableFunctions.empty>"
      ]
     },
     "execution_count": 14,
     "metadata": {},
     "output_type": "execute_result"
    }
   ],
   "source": [
    "torch.empty"
   ]
  },
  {
   "cell_type": "code",
   "execution_count": null,
   "metadata": {},
   "outputs": [],
   "source": []
  }
 ],
 "metadata": {
  "kernelspec": {
   "display_name": "Python 3",
   "language": "python",
   "name": "python3"
  },
  "language_info": {
   "codemirror_mode": {
    "name": "ipython",
    "version": 3
   },
   "file_extension": ".py",
   "mimetype": "text/x-python",
   "name": "python",
   "nbconvert_exporter": "python",
   "pygments_lexer": "ipython3",
   "version": "3.7.6"
  }
 },
 "nbformat": 4,
 "nbformat_minor": 4
}
